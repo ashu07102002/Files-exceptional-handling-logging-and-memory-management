{
  "nbformat": 4,
  "nbformat_minor": 0,
  "metadata": {
    "colab": {
      "provenance": []
    },
    "kernelspec": {
      "name": "python3",
      "display_name": "Python 3"
    },
    "language_info": {
      "name": "python"
    }
  },
  "cells": [
    {
      "cell_type": "markdown",
      "source": [
        "Theroritical question answer"
      ],
      "metadata": {
        "id": "O7x39MmuCUjL"
      }
    },
    {
      "cell_type": "markdown",
      "source": [
        "1. Difference between interpreted and compiled languages\n",
        "   - Compiled languages (e.g., C, C++) are translated entirely into machine code before execution.\n",
        "   - Interpreted languages (e.g., Python, JavaScript) are executed line-by-line by an interpreter at runtime.\n",
        "\n",
        "2. What is exception handling in Python\n",
        "   - It’s a mechanism to catch and handle runtime errors (exceptions) gracefully without stopping the program abruptly.\n",
        "\n",
        "3. Purpose of the finally block in exception handling\n",
        "   - The finally block contains code that always runs, regardless of whether an exception occurred or not, often used for cleanup actions.\n",
        "\n",
        "4. What is logging in Python\n",
        "   - Logging is the process of recording events, errors, or informational messages during program execution to help with debugging or auditing.\n",
        "\n",
        "5. Significance of the __del__ method in Python\n",
        "   - __del__ is a destructor method called when an object is about to be destroyed to free resources or perform cleanup.\n",
        "\n",
        "6. Difference between import and from ... import in Python\n",
        "   - import module imports the entire module.\n",
        "   - from module import something imports specific attributes/functions/classes from the module.\n",
        "\n",
        "7. How to handle multiple exceptions in Python\n",
        "   - Use multiple except blocks or a single block catching a tuple of exceptions, e.g.:\n",
        "\" try:\n",
        "    ...\n",
        "except (ValueError, TypeError):\n",
        "    ...\"\n",
        "\n",
        "8. Purpose of the with statement when handling files in Python\n",
        "   - with ensures that the file is properly closed automatically after the block execution, even if exceptions occur.\n",
        "\n",
        "9. Difference between multithreading and multiprocessing\n",
        "   - Multithreading runs multiple threads within a single process sharing memory.\n",
        "   - Multiprocessing runs separate processes with their own memory space, allowing true parallelism.\n",
        "\n",
        "10. Advantages of using logging in a program\n",
        "   - Helps debug and trace program flow.\n",
        "   - Records errors for later analysis.\n",
        "   - Keeps audit trails.\n",
        "   - Can control output levels (info, debug, warning, error).\n",
        "\n",
        "11. What is memory management in Python\n",
        "   - Automatic allocation, deallocation, and recycling of memory used by objects during program execution.\n",
        "\n",
        "12. Basic steps involved in exception handling in Python\n",
        "   - try: code that may raise exceptions.\n",
        "   - except: code to handle exceptions.\n",
        "   - Optional else: code if no exception occurs.\n",
        "   - Optional finally: code that always runs.\n",
        "\n",
        "13. Why is memory management important in Python\n",
        "   - To prevent memory leaks and optimize resource usage for better performance and stability.\n",
        "\n",
        "14. Role of try and except in exception handling\n",
        "   - try: defines a block to monitor for exceptions.\n",
        "   - except: handles the exceptions raised in the try block.\n",
        "\n",
        "15. How does Python's garbage collection system work\n",
        "   - Python uses reference counting plus a cyclic garbage collector to free memory of objects no longer referenced.\n",
        "\n",
        "16. Purpose of the else block in exception handling\n",
        "   - Code inside else runs only if the try block does not raise an exception, often used for code that should run after successful try.\n",
        "\n",
        "17. Common logging levels in Python\n",
        "   - DEBUG\n",
        "   - INFO\n",
        "   - WARNING\n",
        "   - ERROR\n",
        "   - CRITICAL\n",
        "\n",
        "18. Difference between os.fork() and multiprocessing in Python\n",
        "   - os.fork() creates a child process duplicating the parent (Unix only).\n",
        "   - multiprocessing is a cross-platform module to create processes with more control and features.\n",
        "\n",
        "19. Importance of closing a file in Python\n",
        "   - Closing frees system resources and ensures data is properly written and saved to disk.\n",
        "\n",
        "20. Difference between file.read() and file.readline() in Python\n",
        "   - read() reads the entire file or specified number of bytes.\n",
        "   - readline() reads one line at a time from the file.\n",
        "\n",
        "21. What is the logging module in Python used for\n",
        "   - It provides a flexible framework for emitting log messages from Python programs.\n",
        "\n",
        "22. What is the os module in Python used for in file handling\n",
        "   - os provides functions to interact with the operating system, such as file and directory manipulation.\n",
        "\n",
        "23. Challenges associated with memory management in Python\n",
        "   - Handling cyclic references.\n",
        "   - Managing memory in multithreaded programs.\n",
        "   - Avoiding memory leaks from lingering references.\n",
        "\n",
        "24. How to raise an exception manually in Python\n",
        "   - Using the raise keyword, e.g.:\n",
        "   raise ValueError(\"Invalid input\")\n",
        "\n",
        "25. Why is it important to use multithreading in certain applications?\n",
        "   - To perform concurrent operations, especially for I/O-bound tasks, improving responsiveness and resource utilization."
      ],
      "metadata": {
        "id": "XKemYKT7DwuJ"
      }
    },
    {
      "cell_type": "markdown",
      "source": [
        "Practical Questions"
      ],
      "metadata": {
        "id": "8ZPdZiVRGryZ"
      }
    },
    {
      "cell_type": "code",
      "source": [
        "#1. How can you open a file for writing in Python and write a string to it\n",
        "with open(\"example.txt\", \"w\") as file:\n",
        "    file.write(\"Hello, this is a string written to the file.\")"
      ],
      "metadata": {
        "id": "NQRdQMjxGuWZ"
      },
      "execution_count": 1,
      "outputs": []
    },
    {
      "cell_type": "code",
      "source": [
        "#2. Write a Python program to read the contents of a file and print each line\n",
        "filename = \"example.txt\"\n",
        "with open(filename, \"r\") as file:\n",
        "    for line in file:\n",
        "        print(line, end=\"\")"
      ],
      "metadata": {
        "colab": {
          "base_uri": "https://localhost:8080/"
        },
        "id": "bPjqFhjVG3bl",
        "outputId": "48891bba-df27-460f-af17-2559f0e8ad05"
      },
      "execution_count": 3,
      "outputs": [
        {
          "output_type": "stream",
          "name": "stdout",
          "text": [
            "Hello, this is a string written to the file."
          ]
        }
      ]
    },
    {
      "cell_type": "code",
      "source": [
        "#3.  How would you handle a case where the file doesn't exist while trying to open it for reading\n",
        "filename = \"nonexistent_file.txt\"\n",
        "try:\n",
        "    with open(filename, \"r\") as file:\n",
        "        for line in file:\n",
        "            print(line, end=\"\")\n",
        "except FileNotFoundError:\n",
        "    print(f\"Error: The file '{filename}' does not exist.\")"
      ],
      "metadata": {
        "colab": {
          "base_uri": "https://localhost:8080/"
        },
        "id": "p_NFAqTtHLJS",
        "outputId": "20b7dd1a-6d0b-43ab-f656-19f28fd0e950"
      },
      "execution_count": 4,
      "outputs": [
        {
          "output_type": "stream",
          "name": "stdout",
          "text": [
            "Error: The file 'nonexistent_file.txt' does not exist.\n"
          ]
        }
      ]
    },
    {
      "cell_type": "code",
      "source": [
        "#4. Write a Python script that reads from one file and writes its content to another file\n",
        "source_file = \"source.txt\"\n",
        "destination_file = \"destination.txt\"\n",
        "try:\n",
        "    with open(source_file, \"r\") as src, open(destination_file, \"w\") as dest:\n",
        "        for line in src:\n",
        "            dest.write(line)\n",
        "    print(f\"Contents copied from '{source_file}' to '{destination_file}'.\")\n",
        "except FileNotFoundError:\n",
        "    print(f\"Error: The file '{source_file}' does not exist.\")\n",
        "except Exception as e:\n",
        "    print(f\"An error occurred: {e}\")"
      ],
      "metadata": {
        "colab": {
          "base_uri": "https://localhost:8080/"
        },
        "id": "avkprfAHHPnx",
        "outputId": "0530001f-c853-448c-a98f-18b5876265fd"
      },
      "execution_count": 5,
      "outputs": [
        {
          "output_type": "stream",
          "name": "stdout",
          "text": [
            "Error: The file 'source.txt' does not exist.\n"
          ]
        }
      ]
    },
    {
      "cell_type": "code",
      "source": [
        "#5. How would you catch and handle division by zero error in Python\n",
        "try:\n",
        "    numerator = 10\n",
        "    denominator = 0\n",
        "    result = numerator / denominator\n",
        "    print(f\"Result is {result}\")\n",
        "except ZeroDivisionError:\n",
        "    print(\"Error: Division by zero is not allowed.\")"
      ],
      "metadata": {
        "colab": {
          "base_uri": "https://localhost:8080/"
        },
        "id": "s7ZWbBDWHxjq",
        "outputId": "6862cf80-a446-4282-e523-d572a21dcb32"
      },
      "execution_count": 6,
      "outputs": [
        {
          "output_type": "stream",
          "name": "stdout",
          "text": [
            "Error: Division by zero is not allowed.\n"
          ]
        }
      ]
    },
    {
      "cell_type": "code",
      "source": [
        "#6. Write a Python program that logs an error message to a log file when a division by zero exception occurs\n",
        "import logging\n",
        "logging.basicConfig(filename='error.log', level=logging.ERROR,\n",
        "                    format='%(asctime)s - %(levelname)s - %(message)s')\n",
        "try:\n",
        "    numerator = 10\n",
        "    denominator = 0\n",
        "    result = numerator / denominator\n",
        "    print(f\"Result is {result}\")\n",
        "except ZeroDivisionError as e:\n",
        "    logging.error(\"Division by zero error occurred\", exc_info=True)\n",
        "    print(\"An error occurred. Check 'error.log' for details.\")"
      ],
      "metadata": {
        "colab": {
          "base_uri": "https://localhost:8080/"
        },
        "id": "hmuSTsTSH9TB",
        "outputId": "54076a9d-8324-4152-c4a1-138debbb2403"
      },
      "execution_count": 7,
      "outputs": [
        {
          "output_type": "stream",
          "name": "stderr",
          "text": [
            "ERROR:root:Division by zero error occurred\n",
            "Traceback (most recent call last):\n",
            "  File \"<ipython-input-7-562d9aac60b7>\", line 8, in <cell line: 0>\n",
            "    result = numerator / denominator\n",
            "             ~~~~~~~~~~^~~~~~~~~~~~~\n",
            "ZeroDivisionError: division by zero\n"
          ]
        },
        {
          "output_type": "stream",
          "name": "stdout",
          "text": [
            "An error occurred. Check 'error.log' for details.\n"
          ]
        }
      ]
    },
    {
      "cell_type": "code",
      "source": [
        "#7. How do you log information at different levels (INFO, ERROR, WARNING) in Python using the logging module\n",
        "import logging\n",
        "logging.basicConfig(level=logging.DEBUG, format='%(levelname)s: %(message)s')\n",
        "logging.debug(\"This is a DEBUG message\")\n",
        "logging.info(\"This is an INFO message\")\n",
        "logging.warning(\"This is a WARNING message\")\n",
        "logging.error(\"This is an ERROR message\")\n",
        "logging.critical(\"This is a CRITICAL message\")"
      ],
      "metadata": {
        "colab": {
          "base_uri": "https://localhost:8080/"
        },
        "id": "oE--DG7sIAzA",
        "outputId": "6b94828f-a3a0-4aec-cd7a-209561dec07f"
      },
      "execution_count": 11,
      "outputs": [
        {
          "output_type": "stream",
          "name": "stderr",
          "text": [
            "WARNING:root:This is a WARNING message\n",
            "ERROR:root:This is an ERROR message\n",
            "CRITICAL:root:This is a CRITICAL message\n"
          ]
        }
      ]
    },
    {
      "cell_type": "code",
      "source": [
        "#8. Write a program to handle a file opening error using exception handling\n",
        "filename = \"example.txt\"\n",
        "try:\n",
        "    with open(filename, \"r\") as file:\n",
        "        content = file.read()\n",
        "        print(content)\n",
        "except FileNotFoundError:\n",
        "    print(f\"Error: The file '{filename}' was not found.\")\n",
        "except IOError:\n",
        "    print(f\"Error: An I/O error occurred while opening '{filename}'.\")"
      ],
      "metadata": {
        "colab": {
          "base_uri": "https://localhost:8080/"
        },
        "id": "DelqZ14IIrDz",
        "outputId": "5d1effd2-7514-4dd0-f7b0-b2cb8c1429ca"
      },
      "execution_count": 12,
      "outputs": [
        {
          "output_type": "stream",
          "name": "stdout",
          "text": [
            "Hello, this is a string written to the file.\n"
          ]
        }
      ]
    },
    {
      "cell_type": "code",
      "source": [
        "#9.  How can you read a file line by line and store its content in a list in Python\n",
        "filename = \"example.txt\"\n",
        "lines = []\n",
        "with open(filename, \"r\") as file:\n",
        "    for line in file:\n",
        "        lines.append(line.rstrip('\\n'))\n",
        "print(lines)"
      ],
      "metadata": {
        "colab": {
          "base_uri": "https://localhost:8080/"
        },
        "id": "LuGVtYfOIsTY",
        "outputId": "77d84eab-a94c-44fd-dc4b-d6f421bd4928"
      },
      "execution_count": 13,
      "outputs": [
        {
          "output_type": "stream",
          "name": "stdout",
          "text": [
            "['Hello, this is a string written to the file.']\n"
          ]
        }
      ]
    },
    {
      "cell_type": "code",
      "source": [
        "#10. How can you append data to an existing file in Python\n",
        "with open(\"example.txt\", \"a\") as file:\n",
        "    file.write(\"This line will be added at the end.\\n\")"
      ],
      "metadata": {
        "id": "PmNGly3FJA7w"
      },
      "execution_count": 14,
      "outputs": []
    },
    {
      "cell_type": "code",
      "source": [
        "#11. F Write a Python program that uses a try-except block to handle an error when attempting to access a dictionary key that doesn't exist\n",
        "my_dict = {\"name\": \"Alice\", \"age\": 30}\n",
        "try:\n",
        "    value = my_dict[\"address\"]\n",
        "    print(f\"Address: {value}\")\n",
        "except KeyError:\n",
        "    print(\"Error: The key 'address' does not exist in the dictionary.\")"
      ],
      "metadata": {
        "colab": {
          "base_uri": "https://localhost:8080/"
        },
        "id": "sy1k17VCJGEA",
        "outputId": "5b5fc14b-ef06-45dd-8319-ad7025b74985"
      },
      "execution_count": 15,
      "outputs": [
        {
          "output_type": "stream",
          "name": "stdout",
          "text": [
            "Error: The key 'address' does not exist in the dictionary.\n"
          ]
        }
      ]
    },
    {
      "cell_type": "code",
      "source": [
        "#12.  Write a program that demonstrates using multiple except blocks to handle different types of exceptions\n",
        "try:\n",
        "    x = int(input(\"Enter a number: \"))\n",
        "    y = int(input(\"Enter another number: \"))\n",
        "    result = x / y\n",
        "    print(f\"Result: {result}\")\n",
        "except ValueError:\n",
        "    print(\"Error: Please enter valid integers.\")\n",
        "except ZeroDivisionError:\n",
        "    print(\"Error: Division by zero is not allowed.\")\n",
        "except Exception as e:\n",
        "    print(f\"An unexpected error occurred: {e}\")"
      ],
      "metadata": {
        "colab": {
          "base_uri": "https://localhost:8080/"
        },
        "id": "dQFNTzt_JRsC",
        "outputId": "bbbd2add-cc51-4a39-ac08-abd950aa732d"
      },
      "execution_count": 17,
      "outputs": [
        {
          "output_type": "stream",
          "name": "stdout",
          "text": [
            "Enter a number: 10\n",
            "Enter another number: 0\n",
            "Error: Division by zero is not allowed.\n"
          ]
        }
      ]
    },
    {
      "cell_type": "code",
      "source": [
        "#13. How would you check if a file exists before attempting to read it in Python\n",
        "import os\n",
        "filename = \"example.txt\"\n",
        "if os.path.exists(filename):\n",
        "    with open(filename, \"r\") as file:\n",
        "        content = file.read()\n",
        "        print(content)\n",
        "else:\n",
        "    print(f\"The file '{filename}' does not exist.\")"
      ],
      "metadata": {
        "colab": {
          "base_uri": "https://localhost:8080/"
        },
        "id": "D2kvbSNRJWk0",
        "outputId": "1da163e2-2666-4891-f3bf-e8d12d63ac0b"
      },
      "execution_count": 18,
      "outputs": [
        {
          "output_type": "stream",
          "name": "stdout",
          "text": [
            "Hello, this is a string written to the file.This line will be added at the end.\n",
            "\n"
          ]
        }
      ]
    },
    {
      "cell_type": "code",
      "source": [
        "#14. Write a program that uses the logging module to log both informational and error messages\n",
        "import logging\n",
        "logging.basicConfig(level=logging.INFO, format='%(levelname)s: %(message)s')\n",
        "def divide_numbers(x, y):\n",
        "    logging.info(f\"Attempting to divide {x} by {y}\")\n",
        "    try:\n",
        "        result = x / y\n",
        "        logging.info(f\"Division successful: {result}\")\n",
        "        return result\n",
        "    except ZeroDivisionError:\n",
        "        logging.error(\"Error: Division by zero attempted!\")\n",
        "divide_numbers(10, 2)\n",
        "divide_numbers(10, 0)"
      ],
      "metadata": {
        "colab": {
          "base_uri": "https://localhost:8080/"
        },
        "id": "LRahUuRFJu5g",
        "outputId": "d951cc76-af11-4dfc-c305-48fc224a1d76"
      },
      "execution_count": 19,
      "outputs": [
        {
          "output_type": "stream",
          "name": "stderr",
          "text": [
            "ERROR:root:Error: Division by zero attempted!\n"
          ]
        }
      ]
    },
    {
      "cell_type": "code",
      "source": [
        "#15. Write a Python program that prints the content of a file and handles the case when the file is empty\n",
        "def print_file_content(filename):\n",
        "    try:\n",
        "        with open(filename, \"r\") as file:\n",
        "            content = file.read()\n",
        "            if content.strip():\n",
        "                print(\"File content:\")\n",
        "                print(content)\n",
        "            else:\n",
        "                print(f\"The file '{filename}' is empty.\")\n",
        "    except FileNotFoundError:\n",
        "        print(f\"Error: The file '{filename}' was not found.\")\n",
        "    except Exception as e:\n",
        "        print(f\"An unexpected error occurred: {e}\")\n",
        "print_file_content(\"example.txt\")"
      ],
      "metadata": {
        "colab": {
          "base_uri": "https://localhost:8080/"
        },
        "id": "gYBKcMNUJyKQ",
        "outputId": "0b19ec9f-9535-4255-f3ff-71611e93ca94"
      },
      "execution_count": 20,
      "outputs": [
        {
          "output_type": "stream",
          "name": "stdout",
          "text": [
            "File content:\n",
            "Hello, this is a string written to the file.This line will be added at the end.\n",
            "\n"
          ]
        }
      ]
    },
    {
      "cell_type": "code",
      "source": [
        "#16. Demonstrate how to use memory profiling to check the memory usage of a small program\n",
        "from memory_profiler import profile\n",
        "@profile\n",
        "def process_data():\n",
        "    data = [i for i in range(1000000)]\n",
        "    squared = [x * x for x in data]\n",
        "    return sum(squared)\n",
        "if __name__ == \"__main__\":\n",
        "    result = process_data()\n",
        "    print(\"Result:\", result)"
      ],
      "metadata": {
        "id": "FHfrixRtLx0C"
      },
      "execution_count": null,
      "outputs": []
    },
    {
      "cell_type": "code",
      "source": [
        "#17. Write a Python program to create and write a list of numbers to a file, one number per line\n",
        "numbers = [1, 2, 3, 4, 5, 6, 7, 8, 9, 10]\n",
        "filename = \"numbers.txt\"\n",
        "try:\n",
        "    with open(filename, \"w\") as file:\n",
        "        for number in numbers:\n",
        "            file.write(f\"{number}\\n\")\n",
        "    print(f\"Numbers written successfully to '{filename}'.\")\n",
        "except IOError:\n",
        "    print(\"An error occurred while writing to the file.\")"
      ],
      "metadata": {
        "colab": {
          "base_uri": "https://localhost:8080/"
        },
        "id": "sHQqoSPqMFDE",
        "outputId": "64fd4f6c-3b87-4cc8-b680-618d544510f8"
      },
      "execution_count": 25,
      "outputs": [
        {
          "output_type": "stream",
          "name": "stdout",
          "text": [
            "Numbers written successfully to 'numbers.txt'.\n"
          ]
        }
      ]
    },
    {
      "cell_type": "code",
      "source": [
        "#18. How would you implement a basic logging setup that logs to a file with rotation after 1MB\n",
        "import logging\n",
        "from logging.handlers import RotatingFileHandler\n",
        "logger = logging.getLogger(\"MyLogger\")\n",
        "logger.setLevel(logging.DEBUG)\n",
        "handler = RotatingFileHandler(\n",
        "    \"app.log\", maxBytes=1_000_000, backupCount=3\n",
        ")\n",
        "formatter = logging.Formatter('%(asctime)s - %(levelname)s - %(message)s')\n",
        "handler.setFormatter(formatter)\n",
        "logger.addHandler(handler)\n",
        "for i in range(10000):\n",
        "    logger.debug(f\"Debug message number {i}\")"
      ],
      "metadata": {
        "id": "aQoutItSMMBn"
      },
      "execution_count": null,
      "outputs": []
    },
    {
      "cell_type": "code",
      "source": [
        "#19. Write a program that handles both IndexError and KeyError using a try-except block\n",
        "my_list = [10, 20, 30]\n",
        "my_dict = {\"name\": \"Alice\", \"age\": 25}\n",
        "try:\n",
        "    print(\"List element:\", my_list[5])\n",
        "    print(\"Address:\", my_dict[\"address\"])\n",
        "except IndexError:\n",
        "    print(\"Error: List index out of range.\")\n",
        "except KeyError:\n",
        "    print(\"Error: Key not found in dictionary.\")"
      ],
      "metadata": {
        "colab": {
          "base_uri": "https://localhost:8080/"
        },
        "id": "_-q3E5YCM04w",
        "outputId": "be077d58-9b52-42e5-9b2f-bc330b793368"
      },
      "execution_count": 1,
      "outputs": [
        {
          "output_type": "stream",
          "name": "stdout",
          "text": [
            "Error: List index out of range.\n"
          ]
        }
      ]
    },
    {
      "cell_type": "code",
      "source": [
        "#20. How would you open a file and read its contents using a context manager in Python\n",
        "filename = \"example.txt\"\n",
        "try:\n",
        "    with open(filename, \"r\") as file:\n",
        "        content = file.read()\n",
        "        print(\"File contents:\")\n",
        "        print(content)\n",
        "except FileNotFoundError:\n",
        "    print(f\"Error: The file '{filename}' does not exist.\")"
      ],
      "metadata": {
        "colab": {
          "base_uri": "https://localhost:8080/"
        },
        "id": "nJenY5QdM5FJ",
        "outputId": "3c3b7712-4824-4525-f9e1-52afa5821e6a"
      },
      "execution_count": 2,
      "outputs": [
        {
          "output_type": "stream",
          "name": "stdout",
          "text": [
            "File contents:\n",
            "Hello, this is a string written to the file.This line will be added at the end.\n",
            "\n"
          ]
        }
      ]
    },
    {
      "cell_type": "code",
      "source": [
        "#21. Write a Python program that reads a file and prints the number of occurrences of a specific word\n",
        "def count_word_occurrences(filename, target_word):\n",
        "    try:\n",
        "        with open(filename, \"r\") as file:\n",
        "            content = file.read().lower()\n",
        "            word_list = content.split()\n",
        "            count = word_list.count(target_word.lower())\n",
        "            print(f\"The word '{target_word}' occurred {count} times in '{filename}'.\")\n",
        "    except FileNotFoundError:\n",
        "        print(f\"Error: The file '{filename}' does not exist.\")\n",
        "    except Exception as e:\n",
        "        print(f\"An error occurred: {e}\")\n",
        "filename = \"sample.txt\"\n",
        "target_word = \"python\"\n",
        "count_word_occurrences(filename, target_word)"
      ],
      "metadata": {
        "colab": {
          "base_uri": "https://localhost:8080/"
        },
        "id": "h32xPyYENH8I",
        "outputId": "2d5473c6-9ccb-4ea8-b3b2-9b2e0c49aaaa"
      },
      "execution_count": 3,
      "outputs": [
        {
          "output_type": "stream",
          "name": "stdout",
          "text": [
            "Error: The file 'sample.txt' does not exist.\n"
          ]
        }
      ]
    },
    {
      "cell_type": "code",
      "source": [
        "#22.  How can you check if a file is empty before attempting to read its contents\n",
        "filename = \"example.txt\"\n",
        "try:\n",
        "    with open(filename, \"r\") as file:\n",
        "        content = file.read()\n",
        "        if not content.strip():  # Checks if content is empty or just whitespace\n",
        "            print(f\"The file '{filename}' is empty.\")\n",
        "        else:\n",
        "            print(\"File contents:\")\n",
        "            print(content)\n",
        "except FileNotFoundError:\n",
        "    print(f\"Error: The file '{filename}' does not exist.\")"
      ],
      "metadata": {
        "colab": {
          "base_uri": "https://localhost:8080/"
        },
        "id": "NmDl9vnBNUUr",
        "outputId": "0178a597-d35a-43ce-da58-32c265e44021"
      },
      "execution_count": 5,
      "outputs": [
        {
          "output_type": "stream",
          "name": "stdout",
          "text": [
            "File contents:\n",
            "Hello, this is a string written to the file.This line will be added at the end.\n",
            "\n"
          ]
        }
      ]
    },
    {
      "cell_type": "code",
      "source": [
        "#23. Write a Python program that writes to a log file when an error occurs during file handling\n",
        "import logging\n",
        "logging.basicConfig(\n",
        "    filename='file_errors.log',\n",
        "    level=logging.ERROR,\n",
        "    format='%(asctime)s - %(levelname)s - %(message)s'\n",
        ")\n",
        "filename = \"nonexistent_file.txt\"\n",
        "try:\n",
        "    with open(filename, \"r\") as file:\n",
        "        content = file.read()\n",
        "        print(content)\n",
        "except FileNotFoundError as e:\n",
        "    logging.error(f\"FileNotFoundError: {e}\")\n",
        "    print(f\"Error: The file '{filename}' was not found.\")\n",
        "except Exception as e:\n",
        "    logging.error(f\"Unhandled Exception: {e}\")\n",
        "    print(\"An unexpected error occurred.\")"
      ],
      "metadata": {
        "colab": {
          "base_uri": "https://localhost:8080/"
        },
        "id": "nUEJbjvMNdYg",
        "outputId": "6c76c9c8-9c61-430f-9db9-07c7e69311b8"
      },
      "execution_count": 6,
      "outputs": [
        {
          "output_type": "stream",
          "name": "stderr",
          "text": [
            "ERROR:root:FileNotFoundError: [Errno 2] No such file or directory: 'nonexistent_file.txt'\n"
          ]
        },
        {
          "output_type": "stream",
          "name": "stdout",
          "text": [
            "Error: The file 'nonexistent_file.txt' was not found.\n"
          ]
        }
      ]
    }
  ]
}